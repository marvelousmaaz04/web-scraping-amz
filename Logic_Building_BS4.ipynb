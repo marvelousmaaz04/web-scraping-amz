{
 "cells": [
  {
   "cell_type": "markdown",
   "id": "cd2a40a8-d037-440d-9506-c3a733982fcc",
   "metadata": {},
   "source": [
    "## **Import necessary packages**"
   ]
  },
  {
   "cell_type": "code",
   "execution_count": 1,
   "id": "265cd97b-4a82-4973-a8b1-3f64ef46c7ec",
   "metadata": {},
   "outputs": [],
   "source": [
    "import pandas as pd\n",
    "import requests\n",
    "from bs4 import BeautifulSoup\n",
    "import random"
   ]
  },
  {
   "cell_type": "markdown",
   "id": "0f9677e2-ea11-4b1c-94a4-e8c044b0032e",
   "metadata": {},
   "source": [
    "## **Defining URL and HEADERS**"
   ]
  },
  {
   "cell_type": "code",
   "execution_count": 2,
   "id": "0d5b490c-3a23-4769-bd09-7d3040b3cf1f",
   "metadata": {},
   "outputs": [],
   "source": [
    "URL = \"https://www.amazon.in/s?rh=n%3A6612025031&fs=true&ref=lp_6612025031_sar\""
   ]
  },
  {
   "cell_type": "code",
   "execution_count": 3,
   "id": "fb48c066-da4b-47fc-b789-6482a1154caa",
   "metadata": {},
   "outputs": [],
   "source": [
    "# List of multiple user-agent headers\n",
    "HEADERS_LIST = [\n",
    "    {\n",
    "        \"User-Agent\": \"Mozilla/5.0 (Windows NT 10.0; Win64; x64) AppleWebKit/537.36 (KHTML, like Gecko) Chrome/119.0.0.0 Safari/537.36\",\n",
    "        \"Accept-Language\": \"en-US,en;q=0.9\",\n",
    "    },\n",
    "    {\n",
    "        \"User-Agent\": \"Mozilla/5.0 (Macintosh; Intel Mac OS X 10_15_7) AppleWebKit/537.36 (KHTML, like Gecko) Chrome/118.0.0.0 Safari/537.36\",\n",
    "        \"Accept-Language\": \"en-US,en;q=0.9\",\n",
    "    },\n",
    "    {\n",
    "        \"User-Agent\": \"Mozilla/5.0 (X11; Ubuntu; Linux x86_64; rv:109.0) Gecko/20100101 Firefox/109.0\",\n",
    "        \"Accept-Language\": \"en-US,en;q=0.9\",\n",
    "    },\n",
    "    {\n",
    "        \"User-Agent\": \"Mozilla/5.0 (Windows NT 10.0; Win64; x64) AppleWebKit/537.36 (KHTML, like Gecko) Edge/118.0.2088.46\",\n",
    "        \"Accept-Language\": \"en-US,en;q=0.9\",\n",
    "    },\n",
    "    {\n",
    "        \"User-Agent\": \"Mozilla/5.0 (Macintosh; Intel Mac OS X 10_15_7) AppleWebKit/537.36 (KHTML, like Gecko) Version/16.0 Safari/537.36\",\n",
    "        \"Accept-Language\": \"en-US,en;q=0.9\",\n",
    "    },\n",
    "]\n"
   ]
  },
  {
   "cell_type": "code",
   "execution_count": 4,
   "id": "21aae388-d62f-478d-befb-8236a8636602",
   "metadata": {},
   "outputs": [
    {
     "name": "stdout",
     "output_type": "stream",
     "text": [
      "{'User-Agent': 'Mozilla/5.0 (Windows NT 10.0; Win64; x64) AppleWebKit/537.36 (KHTML, like Gecko) Edge/118.0.2088.46', 'Accept-Language': 'en-US,en;q=0.9'}\n"
     ]
    }
   ],
   "source": [
    "# Function to get a random header\n",
    "def get_random_header():\n",
    "    return random.choice(HEADERS_LIST)\n",
    "\n",
    "# Example usage:\n",
    "HEADERS = get_random_header()\n",
    "print(HEADERS)  # This will print a randomly chosen header"
   ]
  },
  {
   "cell_type": "markdown",
   "id": "21a841df-355a-493f-84ea-9e0ff78a1eb5",
   "metadata": {},
   "source": [
    "## **Sending the request to the URL and parsing the HTML**"
   ]
  },
  {
   "cell_type": "code",
   "execution_count": 5,
   "id": "8ff2422b-6778-4981-ad78-9b3ce8f0e477",
   "metadata": {},
   "outputs": [],
   "source": [
    "webpage = requests.get(URL, headers=HEADERS)"
   ]
  },
  {
   "cell_type": "code",
   "execution_count": 6,
   "id": "68ab0dc5-f545-4027-a22b-0e1d4c676d5a",
   "metadata": {},
   "outputs": [
    {
     "name": "stdout",
     "output_type": "stream",
     "text": [
      "<Response [200]>\n"
     ]
    }
   ],
   "source": [
    "print(webpage)"
   ]
  },
  {
   "cell_type": "code",
   "execution_count": 7,
   "id": "24f4336f-4400-4cb3-ad4c-1b8f1db7c7d4",
   "metadata": {},
   "outputs": [],
   "source": [
    "#print(webpage.content)"
   ]
  },
  {
   "cell_type": "code",
   "execution_count": 8,
   "id": "d4c0b8e5-8920-419f-86dc-92b77dc3c5c6",
   "metadata": {},
   "outputs": [
    {
     "data": {
      "text/plain": [
       "bytes"
      ]
     },
     "execution_count": 8,
     "metadata": {},
     "output_type": "execute_result"
    }
   ],
   "source": [
    "type(webpage.content)"
   ]
  },
  {
   "cell_type": "code",
   "execution_count": 9,
   "id": "ace29ab1-25ad-442c-a4ca-c799423da4e9",
   "metadata": {},
   "outputs": [],
   "source": [
    "soup = BeautifulSoup(webpage.content, \"html.parser\")"
   ]
  },
  {
   "cell_type": "code",
   "execution_count": 10,
   "id": "7a90701e-96df-4a53-a3b2-a4e473aa1eaf",
   "metadata": {},
   "outputs": [],
   "source": [
    "#soup"
   ]
  },
  {
   "cell_type": "markdown",
   "id": "5554deef-80c4-4ace-a0cb-4de978628a21",
   "metadata": {},
   "source": [
    "## **Fetching all the product links**"
   ]
  },
  {
   "cell_type": "code",
   "execution_count": 11,
   "id": "7d21e007-70a8-4e44-8439-bf1ec129e308",
   "metadata": {},
   "outputs": [],
   "source": [
    "links = soup.find_all(\"a\", attrs={\"class\": \"a-link-normal s-line-clamp-4 s-link-style a-text-normal\"})\n",
    "#print(links)"
   ]
  },
  {
   "cell_type": "markdown",
   "id": "974b0f0a-0d72-4cb3-b234-7c0daf06faeb",
   "metadata": {},
   "source": [
    "## **Getting one particular product link and sending request to the specific product page**"
   ]
  },
  {
   "cell_type": "code",
   "execution_count": 12,
   "id": "81da93a1-36c6-40e6-9878-37214d3d48cb",
   "metadata": {},
   "outputs": [],
   "source": [
    "link = links[0].get('href')\n",
    "#print(link)"
   ]
  },
  {
   "cell_type": "code",
   "execution_count": 13,
   "id": "3cd61f21-abc6-4496-aca3-e9c15c0789ea",
   "metadata": {},
   "outputs": [],
   "source": [
    "product_page_link = \"https://amazon.in\"+link\n",
    "#print(product_page_link)"
   ]
  },
  {
   "cell_type": "code",
   "execution_count": 14,
   "id": "3100cc79-3589-4c22-85ea-6eec9f586e6f",
   "metadata": {},
   "outputs": [],
   "source": [
    "# Headers mimicking a real browser\n",
    "HEADERS = get_random_header()"
   ]
  },
  {
   "cell_type": "code",
   "execution_count": 15,
   "id": "56ca8cdc-2723-4403-84de-427a93a2652a",
   "metadata": {},
   "outputs": [],
   "source": [
    "# Use session to maintain cookies\n",
    "session = requests.Session()\n",
    "session.headers.update(HEADERS)"
   ]
  },
  {
   "cell_type": "code",
   "execution_count": 16,
   "id": "fad63185-ad1d-4498-a878-f6375a8a0973",
   "metadata": {},
   "outputs": [],
   "source": [
    "# Replace with your product URL\n",
    "product_page = session.get(product_page_link)\n",
    "\n",
    "product_soup = BeautifulSoup(product_page.content, \"html.parser\")"
   ]
  },
  {
   "cell_type": "code",
   "execution_count": 17,
   "id": "d20a24e7-83fb-4aba-ae4f-2e466f660b3a",
   "metadata": {},
   "outputs": [
    {
     "name": "stdout",
     "output_type": "stream",
     "text": [
      "<Response [200]>\n"
     ]
    }
   ],
   "source": [
    "print(product_page)"
   ]
  },
  {
   "cell_type": "code",
   "execution_count": 18,
   "id": "3ca55104-827e-40f9-a1a8-14166da203dd",
   "metadata": {},
   "outputs": [],
   "source": [
    "#print(product_soup)"
   ]
  },
  {
   "cell_type": "markdown",
   "id": "de85916c-e863-47b1-85ce-cafe767d9e77",
   "metadata": {},
   "source": [
    "## **Extract product title**"
   ]
  },
  {
   "cell_type": "code",
   "execution_count": 19,
   "id": "7be90697-f8f5-4948-b7f7-a4836245a12a",
   "metadata": {},
   "outputs": [
    {
     "name": "stdout",
     "output_type": "stream",
     "text": [
      "Product Title: E GATE 105P Powerbank 10000mAh Fast Charging | Built-in Lightening & Type C Cable for iPhone, Android, TWS etc| Multi Device 22.5W Power Bank 5-in-1 Charger | USB X 2, Type C X 2 & Lightening (Blue)\n"
     ]
    }
   ],
   "source": [
    "title_element = product_soup.find(\"span\", attrs={\"id\": \"productTitle\"})\n",
    "if title_element:\n",
    "    title = title_element.text.strip()\n",
    "    print(\"Product Title:\", title)\n",
    "else:\n",
    "    print(\"Could not fetch the product title. Possibly blocked.\")\n"
   ]
  },
  {
   "cell_type": "markdown",
   "id": "1a624080-27f1-4f37-bb3e-3723d742d4bf",
   "metadata": {},
   "source": [
    "## **Extract product price**"
   ]
  },
  {
   "cell_type": "code",
   "execution_count": 20,
   "id": "23bd8b40-bc76-4d63-85e0-b450f9eee52d",
   "metadata": {},
   "outputs": [
    {
     "name": "stdout",
     "output_type": "stream",
     "text": [
      "Product Price: 990\n"
     ]
    }
   ],
   "source": [
    "price_element = product_soup.find(\"span\", attrs={\"class\": \"a-price aok-align-center reinventPricePriceToPayMargin priceToPay\"}).find(\"span\", attrs={\"class\": \"a-price-whole\"})\n",
    "price = price_element.text.strip()\n",
    "print(\"Product Price:\", price)"
   ]
  },
  {
   "cell_type": "markdown",
   "id": "9f90ead7-4a51-468c-8231-d982457992fe",
   "metadata": {},
   "source": [
    "## **Extract product rating**"
   ]
  },
  {
   "cell_type": "code",
   "execution_count": 21,
   "id": "bbb88593-d5c5-4f46-924e-d606809bc51e",
   "metadata": {},
   "outputs": [
    {
     "name": "stdout",
     "output_type": "stream",
     "text": [
      "Product Rating: 3.9 out of 5 stars\n"
     ]
    }
   ],
   "source": [
    "ratings_element = product_soup.find(\"span\", attrs={\"class\": \"a-icon-alt\"})\n",
    "rating = ratings_element.text.strip()\n",
    "print(\"Product Rating:\", rating)"
   ]
  },
  {
   "cell_type": "markdown",
   "id": "b5818b8d-868c-443d-8f18-8b7d49735879",
   "metadata": {},
   "source": [
    "## **Extract seller profile**"
   ]
  },
  {
   "cell_type": "code",
   "execution_count": 22,
   "id": "391dfd9d-087f-4f46-ad75-f3aab432dc3e",
   "metadata": {},
   "outputs": [
    {
     "name": "stdout",
     "output_type": "stream",
     "text": [
      "Product Seller: Cocoblu Retail\n"
     ]
    }
   ],
   "source": [
    "seller_element = product_soup.find(\"a\", attrs={\"id\": \"sellerProfileTriggerId\"})\n",
    "\n",
    "seller = seller_element.text.strip()\n",
    "print(\"Product Seller:\", seller)"
   ]
  },
  {
   "cell_type": "markdown",
   "id": "62b8ba1f-7085-4430-83a3-9285b71ed279",
   "metadata": {},
   "source": [
    "## **Extract availability**"
   ]
  },
  {
   "cell_type": "code",
   "execution_count": 23,
   "id": "e970645c-7fea-4049-9288-c465a9bc9f9a",
   "metadata": {},
   "outputs": [
    {
     "name": "stdout",
     "output_type": "stream",
     "text": [
      "Product Availability: In stock\n"
     ]
    }
   ],
   "source": [
    "availability_element = product_soup.find(\"div\", attrs={\"id\": \"availability\"})\n",
    "availability = availability_element.text.strip()\n",
    "print(\"Product Availability:\", availability)"
   ]
  },
  {
   "cell_type": "markdown",
   "id": "017e7f46-9c88-402a-8985-5101766b3ca9",
   "metadata": {},
   "source": [
    "## **Extract total ratings**"
   ]
  },
  {
   "cell_type": "code",
   "execution_count": 24,
   "id": "05ecb492-27f2-4284-8768-ad5f1939cbb2",
   "metadata": {},
   "outputs": [
    {
     "name": "stdout",
     "output_type": "stream",
     "text": [
      "Total Product Ratings: 99\n"
     ]
    }
   ],
   "source": [
    "total_ratings_element = product_soup.find(\"a\", attrs={\"id\": \"acrCustomerReviewLink\"})\n",
    "total_ratings = total_ratings_element.text.replace(\"ratings\",\"\").strip()\n",
    "print(\"Total Product Ratings:\", total_ratings)"
   ]
  },
  {
   "cell_type": "code",
   "execution_count": null,
   "id": "3481b854-0111-46bb-a5ec-dc497647a6dc",
   "metadata": {},
   "outputs": [],
   "source": []
  }
 ],
 "metadata": {
  "kernelspec": {
   "display_name": "Python 3 (ipykernel)",
   "language": "python",
   "name": "python3"
  },
  "language_info": {
   "codemirror_mode": {
    "name": "ipython",
    "version": 3
   },
   "file_extension": ".py",
   "mimetype": "text/x-python",
   "name": "python",
   "nbconvert_exporter": "python",
   "pygments_lexer": "ipython3",
   "version": "3.12.7"
  }
 },
 "nbformat": 4,
 "nbformat_minor": 5
}
